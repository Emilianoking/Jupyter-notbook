{
 "cells": [
  {
   "cell_type": "code",
   "execution_count": 1,
   "id": "c3726d11-3c2f-4298-9589-d3ca1e8d13d2",
   "metadata": {},
   "outputs": [],
   "source": [
    "import numpy as np\n",
    "import pandas as pd\n",
    "import matplotlib.pyplot as plt\n"
   ]
  },
  {
   "cell_type": "code",
   "execution_count": 9,
   "id": "4d9dde7a-3ded-4d13-9568-c871e015f12e",
   "metadata": {},
   "outputs": [],
   "source": [
    "data = {\n",
    "    'ID Producto': [1455, 2879, 3453, 4489, 5456, 6864, 2254, 3544, 21650, 2155, 5488, 4654, 3212, 212, 455, 789, 645, 6546, 3118, 3541],\n",
    "    'Nombre Producto': ['Apache160', 'Apache200', 'Apache310RTR', 'Apache310RR', 'NKD', 'NS160', 'NS200', 'NS125', 'BMWs100RR', 'CR4', 'CR5', 'BWS', 'Cripton125', 'Flex125', 'CBR250', 'CBR1000', 'MT09', 'MT15', 'R15', 'R1'],\n",
    "    'Tienda': ['Tienda1', 'Tienda2', 'Tienda3', 'Tienda4', 'Tienda5', 'Tienda6', 'Tienda7', 'Tienda8', 'Tienda9', 'Tienda10', 'Tienda1', 'Tienda2', 'Tienda3', 'Tienda4', 'Tienda5', 'Tienda6', 'Tienda7', 'Tienda8', 'Tienda9', 'Tienda10'],\n",
    "    'Ventas del Producto': [22, 11, 25, 35, 54, 54, 45, 15, 12, 55, 30, 25, 15, 52, 32, 25, 65, 89, 22, 58],\n",
    "    'Precio de venta': [15000, 265984, 651191, 984984, 98949, 49561, 51651, 54654, 65554, 65454, 46426, 544661, 321321, 5165, 65161, 4654, 6546545, 654654, 4654, 15122],\n",
    "    'Fecha de venta': ['03/08/2024', '12/08/2024', '21/08/2024', '20/08/2024', '06/12/2024', '03/09/2024', '05/04/2024', '06/04/2024', '09/02/2024', '01/05/2024', '03/05/2024', '03/06/2024', '23/10/2024', '31/12/2024', '03/11/2024', '26/08/2024', '03/09/2024', '13/08/2024', '14/02/2024', '02/08/2024']\n",
    "}"
   ]
  },
  {
   "cell_type": "code",
   "execution_count": 11,
   "id": "0a2c9286-7648-4b95-936c-441885d2f744",
   "metadata": {},
   "outputs": [],
   "source": [
    "\n",
    "# Crear DataFrame\n",
    "df = pd.DataFrame(data)"
   ]
  },
  {
   "cell_type": "code",
   "execution_count": 13,
   "id": "645c28df-b68f-4181-ae70-24465bebd2c0",
   "metadata": {},
   "outputs": [],
   "source": [
    "\n",
    "# Limpiar datos - corregir formato de fecha\n",
    "df['Fecha de venta'] = pd.to_datetime(df['Fecha de venta'], format='%d/%m/%Y', errors='coerce')\n"
   ]
  },
  {
   "cell_type": "code",
   "execution_count": 17,
   "id": "beabc4c8-c626-42c9-8a3e-c7c83212283d",
   "metadata": {},
   "outputs": [],
   "source": [
    "\n",
    "# Reemplazar NaN en fechas incorrectas\n",
    "df['Fecha de venta'] = df['Fecha de venta'].fillna('Fecha inválida')\n"
   ]
  },
  {
   "cell_type": "code",
   "execution_count": 19,
   "id": "d42c25d4-b505-4b99-8780-82d31f54bb9a",
   "metadata": {},
   "outputs": [
    {
     "name": "stdout",
     "output_type": "stream",
     "text": [
      "    ID Producto Nombre Producto    Tienda  Ventas del Producto  \\\n",
      "0          1455       Apache160   Tienda1                   22   \n",
      "1          2879       Apache200   Tienda2                   11   \n",
      "2          3453    Apache310RTR   Tienda3                   25   \n",
      "3          4489     Apache310RR   Tienda4                   35   \n",
      "4          5456             NKD   Tienda5                   54   \n",
      "5          6864           NS160   Tienda6                   54   \n",
      "6          2254           NS200   Tienda7                   45   \n",
      "7          3544           NS125   Tienda8                   15   \n",
      "8         21650       BMWs100RR   Tienda9                   12   \n",
      "9          2155             CR4  Tienda10                   55   \n",
      "10         5488             CR5   Tienda1                   30   \n",
      "11         4654             BWS   Tienda2                   25   \n",
      "12         3212      Cripton125   Tienda3                   15   \n",
      "13          212         Flex125   Tienda4                   52   \n",
      "14          455          CBR250   Tienda5                   32   \n",
      "15          789         CBR1000   Tienda6                   25   \n",
      "16          645            MT09   Tienda7                   65   \n",
      "17         6546            MT15   Tienda8                   89   \n",
      "18         3118             R15   Tienda9                   22   \n",
      "19         3541              R1  Tienda10                   58   \n",
      "\n",
      "    Precio de venta Fecha de venta  \n",
      "0             15000     2024-08-03  \n",
      "1            265984     2024-08-12  \n",
      "2            651191     2024-08-21  \n",
      "3            984984     2024-08-20  \n",
      "4             98949     2024-12-06  \n",
      "5             49561     2024-09-03  \n",
      "6             51651     2024-04-05  \n",
      "7             54654     2024-04-06  \n",
      "8             65554     2024-02-09  \n",
      "9             65454     2024-05-01  \n",
      "10            46426     2024-05-03  \n",
      "11           544661     2024-06-03  \n",
      "12           321321     2024-10-23  \n",
      "13             5165     2024-12-31  \n",
      "14            65161     2024-11-03  \n",
      "15             4654     2024-08-26  \n",
      "16          6546545     2024-09-03  \n",
      "17           654654     2024-08-13  \n",
      "18             4654     2024-02-14  \n",
      "19            15122     2024-08-02  \n"
     ]
    }
   ],
   "source": [
    "#Mostrar DataFrame limpio\n",
    "print(df)"
   ]
  },
  {
   "cell_type": "code",
   "execution_count": 21,
   "id": "8becff4c-4fa6-4119-a63e-1345ca7e5003",
   "metadata": {},
   "outputs": [
    {
     "name": "stdout",
     "output_type": "stream",
     "text": [
      "\n",
      "Resumen estadístico:\n",
      "\n",
      "         ID Producto Nombre Producto   Tienda  Ventas del Producto  \\\n",
      "count      20.000000              20       20             20.00000   \n",
      "unique           NaN              20       10                  NaN   \n",
      "top              NaN       Apache160  Tienda1                  NaN   \n",
      "freq             NaN               1        2                  NaN   \n",
      "mean     4142.950000             NaN      NaN             37.05000   \n",
      "min       212.000000             NaN      NaN             11.00000   \n",
      "25%      1980.000000             NaN      NaN             22.00000   \n",
      "50%      3332.500000             NaN      NaN             31.00000   \n",
      "75%      4854.500000             NaN      NaN             54.00000   \n",
      "max     21650.000000             NaN      NaN             89.00000   \n",
      "std      4562.921219             NaN      NaN             20.96231   \n",
      "\n",
      "        Precio de venta       Fecha de venta  \n",
      "count      2.000000e+01                   20  \n",
      "unique              NaN                  NaN  \n",
      "top                 NaN                  NaN  \n",
      "freq                NaN                  NaN  \n",
      "mean       5.255672e+05  2024-07-21 15:36:00  \n",
      "min        4.654000e+03  2024-02-09 00:00:00  \n",
      "25%        3.860000e+04  2024-05-02 12:00:00  \n",
      "50%        6.530750e+04  2024-08-12 12:00:00  \n",
      "75%        3.771560e+05  2024-09-03 00:00:00  \n",
      "max        6.546545e+06  2024-12-31 00:00:00  \n",
      "std        1.444767e+06                  NaN  \n"
     ]
    }
   ],
   "source": [
    "# Resumen estadístico básico\n",
    "print(\"\\nResumen estadístico:\\n\")\n",
    "print(df.describe(include='all'))\n"
   ]
  },
  {
   "cell_type": "code",
   "execution_count": 23,
   "id": "e71e5441-266e-4878-8190-ee7ec47936aa",
   "metadata": {},
   "outputs": [
    {
     "name": "stdout",
     "output_type": "stream",
     "text": [
      "\n",
      "Ventas totales por tienda:\n",
      "\n",
      "Tienda\n",
      "Tienda1      52\n",
      "Tienda10    113\n",
      "Tienda2      36\n",
      "Tienda3      40\n",
      "Tienda4      87\n",
      "Tienda5      86\n",
      "Tienda6      79\n",
      "Tienda7     110\n",
      "Tienda8     104\n",
      "Tienda9      34\n",
      "Name: Ventas del Producto, dtype: int64\n"
     ]
    }
   ],
   "source": [
    "# Análisis de ventas por tienda\n",
    "ventas_por_tienda = df.groupby('Tienda')['Ventas del Producto'].sum()\n",
    "print(\"\\nVentas totales por tienda:\\n\")\n",
    "print(ventas_por_tienda)"
   ]
  },
  {
   "cell_type": "code",
   "execution_count": 25,
   "id": "41cad88f-a6b8-444d-ae8a-f52318685204",
   "metadata": {},
   "outputs": [
    {
     "data": {
      "image/png": "[encoded data removed]",
      "text/plain": [
       "<Figure size 640x480 with 1 Axes>"
      ]
     },
     "metadata": {},
     "output_type": "display_data"
    }
   ],
   "source": [
    "# Gráfica de ventas por tienda\n",
    "ventas_por_tienda.plot(kind='bar', title='Ventas Totales por Tienda')\n",
    "plt.xlabel('Tienda')\n",
    "plt.ylabel('Ventas del Producto')\n",
    "plt.show()"
   ]
  },
  {
   "cell_type": "code",
   "execution_count": 27,
   "id": "ecc4e4be-5adc-4f9c-89c1-9a50c2d5764d",
   "metadata": {},
   "outputs": [
    {
     "name": "stdout",
     "output_type": "stream",
     "text": [
      "\n",
      "Ventas totales por producto:\n",
      "\n",
      "Nombre Producto\n",
      "Apache160       22\n",
      "Apache200       11\n",
      "Apache310RR     35\n",
      "Apache310RTR    25\n",
      "BMWs100RR       12\n",
      "BWS             25\n",
      "CBR1000         25\n",
      "CBR250          32\n",
      "CR4             55\n",
      "CR5             30\n",
      "Cripton125      15\n",
      "Flex125         52\n",
      "MT09            65\n",
      "MT15            89\n",
      "NKD             54\n",
      "NS125           15\n",
      "NS160           54\n",
      "NS200           45\n",
      "R1              58\n",
      "R15             22\n",
      "Name: Ventas del Producto, dtype: int64\n"
     ]
    }
   ],
   "source": [
    "# Análisis de ventas por producto\n",
    "ventas_por_producto = df.groupby('Nombre Producto')['Ventas del Producto'].sum()\n",
    "print(\"\\nVentas totales por producto:\\n\")\n",
    "print(ventas_por_producto)"
   ]
  },
  {
   "cell_type": "code",
   "execution_count": 29,
   "id": "f9055d50-7f30-49e8-b5cf-208a933a0374",
   "metadata": {},
   "outputs": [
    {
     "data": {
      "image/png": "[encoded data removed]",
      "text/plain": [
       "<Figure size 640x480 with 1 Axes>"
      ]
     },
     "metadata": {},
     "output_type": "display_data"
    }
   ],
   "source": [
    "# Gráfica de ventas por producto\n",
    "ventas_por_producto.plot(kind='bar', title='Ventas Totales por Producto')\n",
    "plt.xlabel('Producto')\n",
    "plt.ylabel('Ventas del Producto')\n",
    "plt.show()"
   ]
  },
  {
   "cell_type": "code",
   "execution_count": 31,
   "id": "4977dfd1-5d1b-4174-b7a0-cd5f30386682",
   "metadata": {},
   "outputs": [
    {
     "name": "stdout",
     "output_type": "stream",
     "text": [
      "\n",
      "Ingresos totales por producto:\n",
      "\n",
      "Nombre Producto\n",
      "Apache160          330000\n",
      "Apache200         2925824\n",
      "Apache310RR      34474440\n",
      "Apache310RTR     16279775\n",
      "BMWs100RR          786648\n",
      "BWS              13616525\n",
      "CBR1000            116350\n",
      "CBR250            2085152\n",
      "CR4               3599970\n",
      "CR5               1392780\n",
      "Cripton125        4819815\n",
      "Flex125            268580\n",
      "MT09            425525425\n",
      "MT15             58264206\n",
      "NKD               5343246\n",
      "NS125              819810\n",
      "NS160             2676294\n",
      "NS200             2324295\n",
      "R1                 877076\n",
      "R15                102388\n",
      "Name: Ingresos, dtype: int64\n"
     ]
    }
   ],
   "source": [
    "df['Ingresos'] = df['Ventas del Producto'] * df['Precio de venta']\n",
    "ingresos_por_producto = df.groupby('Nombre Producto')['Ingresos'].sum()\n",
    "print(\"\\nIngresos totales por producto:\\n\")\n",
    "print(ingresos_por_producto)\n"
   ]
  },
  {
   "cell_type": "code",
   "execution_count": 33,
   "id": "7756baff-f78a-4857-b236-9df734896ef6",
   "metadata": {},
   "outputs": [
    {
     "name": "stdout",
     "output_type": "stream",
     "text": [
      "\n",
      "Ventas totales por mes:\n",
      "\n",
      "Mes\n",
      "2      34\n",
      "4      60\n",
      "5      85\n",
      "6      25\n",
      "8     265\n",
      "9     119\n",
      "10     15\n",
      "11     32\n",
      "12    106\n",
      "Name: Ventas del Producto, dtype: int64\n",
      "\n",
      "Ingresos totales por mes:\n",
      "\n",
      "Mes\n",
      "2        889036\n",
      "4       3144105\n",
      "5       4992750\n",
      "6      13616525\n",
      "8     113267671\n",
      "9     428201719\n",
      "10      4819815\n",
      "11      2085152\n",
      "12      5611826\n",
      "Name: Ingresos, dtype: int64\n"
     ]
    }
   ],
   "source": [
    "df['Mes'] = df['Fecha de venta'].dt.month\n",
    "ventas_por_mes = df.groupby('Mes')['Ventas del Producto'].sum()\n",
    "ingresos_por_mes = df.groupby('Mes')['Ingresos'].sum()\n",
    "\n",
    "print(\"\\nVentas totales por mes:\\n\")\n",
    "print(ventas_por_mes)\n",
    "print(\"\\nIngresos totales por mes:\\n\")\n",
    "print(ingresos_por_mes)\n"
   ]
  },
  {
   "cell_type": "code",
   "execution_count": null,
   "id": "760df225-e466-4a38-8927-1c56d812a1ff",
   "metadata": {},
   "outputs": [],
   "source": []
  }
 ],
 "metadata": {
  "kernelspec": {
   "display_name": "Python 3 (ipykernel)",
   "language": "python",
   "name": "python3"
  },
  "language_info": {
   "codemirror_mode": {
    "name": "ipython",
    "version": 3
   },
   "file_extension": ".py",
   "mimetype": "text/x-python",
   "name": "python",
   "nbconvert_exporter": "python",
   "pygments_lexer": "ipython3",
   "version": "3.12.4"
  }
 },
 "nbformat": 4,
 "nbformat_minor": 5
}
